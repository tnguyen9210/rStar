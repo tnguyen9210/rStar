{
 "cells": [
  {
   "cell_type": "code",
   "execution_count": 3,
   "id": "93a81884-f095-4b65-8fa1-7075126083e7",
   "metadata": {},
   "outputs": [],
   "source": [
    "import os\n",
    "import torch\n",
    "import argparse\n",
    "from train.rm import *\n",
    "from safetensors.torch import load_file\n",
    "from transformers import AutoTokenizer, AutoModelForCausalLM\n",
    "from transformers.utils import (\n",
    "    SAFE_WEIGHTS_NAME,\n",
    ")"
   ]
  },
  {
   "cell_type": "code",
   "execution_count": 6,
   "id": "c544dc7f-d7d8-46cb-81b8-86bf93071afb",
   "metadata": {},
   "outputs": [],
   "source": [
    "def fix_valuehead(\n",
    "    model, rm_ckpt_dir: str, rm_save_dir: str, V_HEAD_WEIGHTS_NAME: str = \"value_head.bin\"\n",
    ") -> None:\n",
    "\n",
    "    path_to_checkpoint = os.path.join(rm_ckpt_dir, SAFE_WEIGHTS_NAME)\n",
    "    # state_dict = load_file(path_to_checkpoint)\n",
    "    rm_model = AutoModelForCausalLM.from_pretrained(\n",
    "        rm_ckpt_dir\n",
    "    )\n",
    "    state_dict = model.state_dict()\n",
    "\n",
    "    \n",
    "    tokenizer = AutoTokenizer.from_pretrained(\n",
    "        rm_ckpt_dir, \n",
    "        trust_remote_code=True, \n",
    "        use_fast=True,\n",
    "        padding_side=\"right\",\n",
    "        split_special_tokens=False,\n",
    "    )\n",
    "    model.pretrained_model.resize_token_embeddings(len(tokenizer))\n",
    "    decoder_state_dict = {}\n",
    "    v_head_state_dict = {}\n",
    "    for name, param in state_dict.items():\n",
    "        if name.startswith(\"v_head.\"):\n",
    "            v_head_state_dict[name] = param\n",
    "        else:\n",
    "            decoder_state_dict[name.replace(\"pretrained_model.\", \"\", 1)] = param\n",
    "\n",
    "    model.pretrained_model.save_pretrained(\n",
    "        rm_save_dir, state_dict=decoder_state_dict or None\n",
    "    )\n",
    "    tokenizer.save_pretrained(rm_save_dir)\n",
    "    torch.save(v_head_state_dict, os.path.join(rm_save_dir, V_HEAD_WEIGHTS_NAME))\n",
    "    #os.remove(path_to_checkpoint)"
   ]
  },
  {
   "cell_type": "code",
   "execution_count": 7,
   "id": "97b3b2b3-00a5-4c03-a59a-e76ca569136b",
   "metadata": {},
   "outputs": [
    {
     "data": {
      "application/vnd.jupyter.widget-view+json": {
       "model_id": "347606fca7c045cd8ac3b89722ad38d1",
       "version_major": 2,
       "version_minor": 0
      },
      "text/plain": [
       "Loading checkpoint shards:   0%|          | 0/4 [00:00<?, ?it/s]"
      ]
     },
     "metadata": {},
     "output_type": "display_data"
    }
   ],
   "source": [
    "base_dir = '/groups/kjun/tnn/datasets/'\n",
    "    \n",
    "# dataset path\n",
    "data_dir = base_dir + \"/prm800k/math_splits\"\n",
    "\n",
    "llm_tokenizer_dir = base_dir + \"/Llama-3.2-1B-Instruct\"\n",
    "prm_tokenizer_dir = base_dir + \"/Llama3.1-8B-PRM-Deepseek-Data\"\n",
    "# prm_tokenizer_dir = base_dir + \"/Llama-3.2-1B-RM-GSM8k\"\n",
    "\n",
    "\n",
    "\n",
    "args = argparse.Namespace()\n",
    "args.custom_cfg = f\"config/sft_eval_mcts.yaml\"\n",
    "args.qaf = f\"eval_data/math500_test.json\"\n",
    "args.sft_model_path = f\"{llm_tokenizer_dir}\"\n",
    "args.rm_ckpt_path = f\"{prm_tokenizer_dir}\"\n",
    "args.rm_save_path = f\"results/Llama3.1-8B-PRM-Deepseek-Data\"\n",
    "\n",
    "model = AutoModelForCausalLM.from_pretrained(\n",
    "    args.sft_model_path, \n",
    "    trust_remote_code=True,\n",
    "    #torch_dtype=torch.bfloat16,\n",
    "    use_cache=False,\n",
    ")\n",
    "\n",
    "model = RewardModelWithValueHead(pretrained_model=model)\n",
    "fix_valuehead(model, args.rm_ckpt_path, args.rm_save_path)"
   ]
  }
 ],
 "metadata": {
  "kernelspec": {
   "display_name": "py311",
   "language": "python",
   "name": "py311"
  },
  "language_info": {
   "codemirror_mode": {
    "name": "ipython",
    "version": 3
   },
   "file_extension": ".py",
   "mimetype": "text/x-python",
   "name": "python",
   "nbconvert_exporter": "python",
   "pygments_lexer": "ipython3",
   "version": "3.11.11"
  }
 },
 "nbformat": 4,
 "nbformat_minor": 5
}
